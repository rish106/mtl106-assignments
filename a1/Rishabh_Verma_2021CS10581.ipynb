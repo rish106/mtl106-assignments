{
 "cells": [
  {
   "cell_type": "markdown",
   "metadata": {},
   "source": [
    "# MTL106 Assignment 1\n",
    "\n",
    "My entry number is 2021CS10581 so the strengths of my warriors are 5, 8 and 1."
   ]
  },
  {
   "cell_type": "code",
   "execution_count": null,
   "metadata": {},
   "outputs": [],
   "source": [
    "import random\n",
    "\n",
    "\n",
    "my_warriors = [5, 8, 1]\n",
    "alice_warriors = [3, 4, 6, 7]\n",
    "\n",
    "\n",
    "def win_probability(my_pick, alice_pick):\n",
    "    return my_pick / (my_pick + alice_pick)\n",
    "\n",
    "\n",
    "def single_game(pick_strategy):\n",
    "    global my_warriors, alice_warriors\n",
    "    curr_my_warriors = my_warriors.copy()\n",
    "    curr_alice_warriors = alice_warriors.copy()\n",
    "\n",
    "    while curr_my_warriors and curr_alice_warriors:\n",
    "        alice_pick = random.choice(curr_alice_warriors)\n",
    "        my_pick = pick_strategy(curr_my_warriors)\n",
    "        prob_win = win_probability(my_pick, alice_pick)\n",
    "\n",
    "        curr_my_warriors.remove(my_pick)\n",
    "        curr_alice_warriors.remove(alice_pick)\n",
    "\n",
    "        if random.random() < prob_win:\n",
    "            curr_my_warriors.append(my_pick + alice_pick)\n",
    "        else:\n",
    "            curr_alice_warriors.append(my_pick + alice_pick)\n",
    "\n",
    "    return len(curr_my_warriors) > 0\n",
    "\n",
    "\n",
    "def simulate_games(pick_strategy):\n",
    "    wins = 0\n",
    "    num_iterations = 100000\n",
    "\n",
    "    for _ in range(num_iterations):\n",
    "        wins += single_game(pick_strategy)\n",
    "\n",
    "    return wins / num_iterations"
   ]
  },
  {
   "cell_type": "code",
   "execution_count": null,
   "metadata": {},
   "outputs": [],
   "source": [
    "my_warriors = [5, 8, 1]\n",
    "alice_warriors = [3, 4, 6, 7]"
   ]
  },
  {
   "cell_type": "markdown",
   "metadata": {},
   "source": [
    "### 1. Max strategy"
   ]
  },
  {
   "cell_type": "code",
   "execution_count": null,
   "metadata": {},
   "outputs": [],
   "source": [
    "def max_strategy(my_warriors):\n",
    "    return max(my_warriors)\n",
    "\n",
    "max_strat_probability = simulate_games(max_strategy)\n",
    "print(\"With max strategy\", max_strat_probability)"
   ]
  },
  {
   "cell_type": "markdown",
   "metadata": {},
   "source": [
    "### 2. Min strategy"
   ]
  },
  {
   "cell_type": "code",
   "execution_count": null,
   "metadata": {},
   "outputs": [],
   "source": [
    "def min_strategy(my_warriors):\n",
    "    return min(my_warriors)\n",
    "\n",
    "min_strat_probability = simulate_games(min_strategy)\n",
    "print(\"With min strategy\", min_strat_probability)"
   ]
  },
  {
   "cell_type": "markdown",
   "metadata": {},
   "source": [
    "### 3. Expected Gain\n",
    "\n",
    "Let strength gained upon winning be denoted by $S_{gained}$ and strength lost upon losing be denoted by $S_{lost}$.\n",
    "\n",
    "$E_{gain} = P_{win} \\times S_{gained} - P_{loss} \\times S_{lost}$\n",
    "\n",
    "$Pick_{Alice} = S_{gained} = x$\n",
    "\n",
    "$Pick_{Me} = S_{lost} = y$\n",
    "\n",
    "$P_{win} = y / (x + y)$\n",
    "\n",
    "$P_{loss} = x / (x + y)$\n",
    "\n",
    "Substituting, the values we get\n",
    "\n",
    "$E_{gain} = ((y / (x + y)) \\times x) - ((x / (x + y)) \\times y)$\n",
    "\n",
    "$E_{gain} = ((y \\times x) / (x + y)) - ((x \\times y) / (x + y))$\n",
    "\n",
    "$E_{gain} = 0$\n",
    "\n",
    "Yes, every match is fair.\n"
   ]
  },
  {
   "cell_type": "markdown",
   "metadata": {},
   "source": [
    "### 4. Optimal strategy"
   ]
  },
  {
   "cell_type": "code",
   "execution_count": null,
   "metadata": {},
   "outputs": [],
   "source": [
    "def random_strategy(my_warriors):\n",
    "    return random.choice(my_warriors)\n",
    "\n",
    "random_strat_probability = simulate_games(random_strategy)\n",
    "print(\"With random strategy\", random_strat_probability)"
   ]
  }
 ],
 "metadata": {
  "kernelspec": {
   "display_name": "Python 3",
   "language": "python",
   "name": "python3"
  },
  "language_info": {
   "codemirror_mode": {
    "name": "ipython",
    "version": 3
   },
   "file_extension": ".py",
   "mimetype": "text/x-python",
   "name": "python",
   "nbconvert_exporter": "python",
   "pygments_lexer": "ipython3",
   "version": "3.11.7"
  }
 },
 "nbformat": 4,
 "nbformat_minor": 2
}
